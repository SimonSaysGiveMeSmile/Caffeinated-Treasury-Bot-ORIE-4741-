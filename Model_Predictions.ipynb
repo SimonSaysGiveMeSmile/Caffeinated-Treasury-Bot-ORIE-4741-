{
 "cells": [
  {
   "cell_type": "code",
   "execution_count": 1,
   "id": "9de02d24",
   "metadata": {},
   "outputs": [],
   "source": [
    "import numpy as np\n",
    "import pandas as pd\n",
    "from sklearn.preprocessing import StandardScaler, OneHotEncoder\n",
    "from sklearn.compose import ColumnTransformer\n",
    "import joblib  # For loading the trained models\n"
   ]
  },
  {
   "cell_type": "code",
   "execution_count": 2,
   "id": "599bcc6f",
   "metadata": {},
   "outputs": [
    {
     "data": {
      "text/plain": [
       "['preprocessor.pkl']"
      ]
     },
     "execution_count": 2,
     "metadata": {},
     "output_type": "execute_result"
    }
   ],
   "source": [
    "df_train = pd.read_csv('train_cleaned.csv')\n",
    "\n",
    "# Define the preprocessing steps for numerical and categorical data\n",
    "numerical_features = ['Num_Credit_Card', 'Num_Credit_Inquiries', 'Num_Bank_Accounts', 'Outstanding_Debt', 'Num_of_Delayed_Payment', 'Changed_Credit_Limit', 'Amount_invested_monthly']\n",
    "categorical_features = ['Credit_Mix', 'Payment_of_Min_Amount']\n",
    "\n",
    "numeric_transformer = StandardScaler()\n",
    "categorical_transformer = OneHotEncoder(handle_unknown='ignore')  # Handle unknown categories\n",
    "\n",
    "# Create a column transformer to apply the appropriate transformations to each column\n",
    "preprocessor = ColumnTransformer(\n",
    "    transformers=[\n",
    "        ('num', numeric_transformer, numerical_features),\n",
    "        ('cat', categorical_transformer, categorical_features)\n",
    "    ]) \n",
    "\n",
    "# Fit the preprocessor on the training data\n",
    "preprocessor.fit(df_train[numerical_features + categorical_features])\n",
    "\n",
    "# Save the fitted preprocessor\n",
    "joblib.dump(preprocessor, 'preprocessor.pkl')"
   ]
  },
  {
   "cell_type": "code",
   "execution_count": 3,
   "id": "984dae36",
   "metadata": {},
   "outputs": [],
   "source": [
    "logreg_model = joblib.load('LOG_Model2.pkl')\n",
    "rf_model = joblib.load('RF_Model2.pkl')\n",
    "svm_model = joblib.load('SVM_Model2.pkl')\n",
    "cat_model = joblib.load('CAT_Model.pkl')\n",
    "all_model = joblib.load('ALL_Model.pkl')# Assuming the CatBoost model is saved in this file"
   ]
  },
  {
   "cell_type": "code",
   "execution_count": 4,
   "id": "a7d30859",
   "metadata": {},
   "outputs": [],
   "source": [
    "def get_user_input():\n",
    "    print(\"Please enter the following details:\")\n",
    "    Num_Credit_Card = float(input(\"Number of Credit Cards: \"))\n",
    "    Num_Credit_Inquiries = float(input(\"Number of Credit Inquiries in the last six months: \"))\n",
    "    Num_Bank_Accounts = float(input(\"Number of Bank Accounts: \"))\n",
    "    Outstanding_Debt = float(input(\"Outstanding Debt: \"))\n",
    "    Num_of_Delayed_Payment = float(input(\"Number of Delayed Payments: \"))\n",
    "    Changed_Credit_Limit = float(input(\"Changes in Credit Limit: \"))\n",
    "    Amount_invested_monthly = float(input(\"Amount Invested Monthly: \"))\n",
    "    Credit_Mix = input(\"Credit Mix (1 for Good, 2 for Bad, 3 for Unknown): \")\n",
    "    Payment_of_Min_Amount = input(\"Payment of Minimum Amount (Yes/No): \")\n",
    "    \n",
    "    data = {\n",
    "        'Num_Credit_Card': [Num_Credit_Card],\n",
    "        'Num_Credit_Inquiries': [Num_Credit_Inquiries],\n",
    "        'Num_Bank_Accounts': [Num_Bank_Accounts],\n",
    "        'Outstanding_Debt': [Outstanding_Debt],\n",
    "        'Num_of_Delayed_Payment': [Num_of_Delayed_Payment],\n",
    "        'Changed_Credit_Limit': [Changed_Credit_Limit],\n",
    "        'Amount_invested_monthly': [Amount_invested_monthly],\n",
    "        'Credit_Mix': [Credit_Mix],\n",
    "        'Payment_of_Min_Amount': [Payment_of_Min_Amount]\n",
    "    }\n",
    "    return pd.DataFrame(data)"
   ]
  },
  {
   "cell_type": "code",
   "execution_count": 23,
   "id": "be4c9606",
   "metadata": {
    "scrolled": false
   },
   "outputs": [
    {
     "name": "stdout",
     "output_type": "stream",
     "text": [
      "Please enter the following details:\n",
      "Number of Credit Cards: 5\n",
      "Number of Credit Inquiries in the last six months: 15\n",
      "Number of Bank Accounts: 5\n",
      "Outstanding Debt: 30000\n",
      "Number of Delayed Payments: 20\n",
      "Changes in Credit Limit: 0\n",
      "Amount Invested Monthly: 0\n",
      "Credit Mix (1 for Good, 2 for Bad, 3 for Unknown): 2\n",
      "Payment of Minimum Amount (Yes/No): No\n",
      "Predictions:\n",
      "Logistic Regression Prediction: ['Poor']\n",
      "Random Forest Prediction: ['Standard']\n",
      "SVM Prediction: ['Poor']\n",
      "CatBoost Prediction: Standard\n"
     ]
    }
   ],
   "source": [
    "\n",
    "def make_predictions(user_input_df, preprocessor):\n",
    "    # Ensure preprocessor is fitted or load a fitted one\n",
    "    # Example: preprocessor = joblib.load('preprocessor.pkl')\n",
    "\n",
    "    # Preprocess the user input\n",
    "    user_input_preprocessed = preprocessor.transform(user_input_df)\n",
    "\n",
    "    # Use the models to make predictions\n",
    "    logreg_pred = logreg_model.predict(user_input_preprocessed)\n",
    "    rf_pred = rf_model.predict(user_input_preprocessed)\n",
    "    svm_pred = svm_model.predict(user_input_preprocessed)\n",
    "    catboost_pred = cat_model.predict(user_input_preprocessed)  \n",
    "    # all_pred = all_model.predict(user_input_preprocessed)\n",
    "\n",
    "    print(\"Predictions:\")\n",
    "    print(\"Logistic Regression Prediction:\", logreg_pred)\n",
    "    print(\"Random Forest Prediction:\", rf_pred)\n",
    "    print(\"SVM Prediction:\", svm_pred)\n",
    "    if catboost_pred == 0:\n",
    "        print(\"CatBoost Prediction: Low Risk\")\n",
    "    elif catboost_pred == 1:\n",
    "        print(\"CatBoost Prediction: High Risk\")\n",
    "    else:\n",
    "        print(\"CatBoost Prediction: Standard\")\n",
    "    \n",
    "    # print(\"Combined Model Prediction:\", all_pred)\n",
    "\n",
    "# Get user input\n",
    "user_input_df = get_user_input()\n",
    "\n",
    "user_input_preprocessed = preprocessor.transform(user_input_df)\n",
    "\n",
    "# Save preprocessor\n",
    "joblib.dump(preprocessor, 'preprocessor.pkl')\n",
    "\n",
    "# Use it to transform new data\n",
    "user_input_preprocessed = preprocessor.transform(user_input_df)\n",
    "\n",
    "# Fit the preprocessor on the training data\n",
    "preprocessor.fit(df_train[numerical_features + categorical_features])\n",
    "\n",
    "# Now you can transform user input or any new data\n",
    "user_input_preprocessed = preprocessor.transform(user_input_df)\n",
    "\n",
    "\n",
    "# Make predictions with the input\n",
    "make_predictions(user_input_df, preprocessor)\n"
   ]
  },
  {
   "cell_type": "code",
   "execution_count": null,
   "id": "1778d5f9",
   "metadata": {},
   "outputs": [],
   "source": []
  },
  {
   "cell_type": "markdown",
   "id": "ee990306",
   "metadata": {},
   "source": [
    "1# "
   ]
  }
 ],
 "metadata": {
  "kernelspec": {
   "display_name": "Python 3 (ipykernel)",
   "language": "python",
   "name": "python3"
  },
  "language_info": {
   "codemirror_mode": {
    "name": "ipython",
    "version": 3
   },
   "file_extension": ".py",
   "mimetype": "text/x-python",
   "name": "python",
   "nbconvert_exporter": "python",
   "pygments_lexer": "ipython3",
   "version": "3.11.5"
  }
 },
 "nbformat": 4,
 "nbformat_minor": 5
}
